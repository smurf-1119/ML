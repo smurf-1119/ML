{
 "cells": [
  {
   "cell_type": "code",
   "execution_count": 3,
   "id": "entitled-assets",
   "metadata": {},
   "outputs": [],
   "source": [
    "import numpy as np\n",
    "from scipy import stats"
   ]
  },
  {
   "cell_type": "code",
   "execution_count": 9,
   "id": "solar-basketball",
   "metadata": {},
   "outputs": [],
   "source": [
    "def PazenPdf(data, h, x):\n",
    "    a = 1/((10)**0.5 * h)\n",
    "    sum = 0\n",
    "    for i in range(10):\n",
    "        sum += stats.norm(0,1).pdf((x-data[i])*((10)**0.5)/h)\n",
    "    return sum * a\n"
   ]
  },
  {
   "cell_type": "code",
   "execution_count": 10,
   "id": "acoustic-client",
   "metadata": {},
   "outputs": [
    {
     "name": "stdout",
     "output_type": "stream",
     "text": [
      "0.02465516740538033\n",
      "0.02953697899923901\n",
      "0.23350391704293277\n"
     ]
    }
   ],
   "source": [
    "data = [-0.3,-0.2,0.9,1.4,1.6,0.5,-1.2,0.7,1.3,0.4]\n",
    "MSE = [0,0,0];\n",
    "h = [1, 0.8, 0.2]\n",
    "for j in range(3):\n",
    "    for i in range(10):\n",
    "        MSE[j] += (stats.norm(0,1).pdf(data[i]) - PazenPdf(data, h[j], data[i]))**2\n",
    "    print(MSE[j]/10)    "
   ]
  },
  {
   "cell_type": "code",
   "execution_count": 14,
   "id": "superb-processor",
   "metadata": {},
   "outputs": [
    {
     "name": "stdout",
     "output_type": "stream",
     "text": [
      "0.008641832092646008\n"
     ]
    }
   ],
   "source": [
    "MSE1 = 0\n",
    "for i in range(10):\n",
    "        MSE1 += (stats.norm(0,1).pdf(data[i]) - stats.norm(0.51,1).pdf(data[i]))**2\n",
    "print(MSE1/10)"
   ]
  }
 ],
 "metadata": {
  "kernelspec": {
   "display_name": "Python 3",
   "language": "python",
   "name": "python3"
  },
  "language_info": {
   "codemirror_mode": {
    "name": "ipython",
    "version": 3
   },
   "file_extension": ".py",
   "mimetype": "text/x-python",
   "name": "python",
   "nbconvert_exporter": "python",
   "pygments_lexer": "ipython3",
   "version": "3.7.10"
  }
 },
 "nbformat": 4,
 "nbformat_minor": 5
}
