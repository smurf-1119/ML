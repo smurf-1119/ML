{
 "cells": [
  {
   "cell_type": "markdown",
   "metadata": {},
   "source": [
    "# <center><font size=10>随机森林</font></center>\n",
    "\n",
    "\n",
    "## 本课程需要使用的module: os, numpy, pandas, tensorflow(2.0.0及以上), matplotlib, sklearn, graphviz, pydotplus, skimage, opencv, seaborn.\n"
   ]
  },
  {
   "cell_type": "markdown",
   "metadata": {},
   "source": [
    "# <span id='content'>目录</span>\n",
    "\n",
    "## [0. 课程摘要](#0)\n",
    "\n",
    "## [1. 决策树](#1)\n",
    "\n",
    "## [2. 分类决策树](#2)\n",
    "\n",
    "## [3. 回归决策树](#3)\n",
    "\n",
    "## [4. 本课任务介绍](#4)\n",
    "\n",
    "### [- 4.1 MNIST介绍](#4.1)\n",
    "\n",
    "### [- 4.2 数据的预处理](#4.2)\n",
    "\n",
    "## [5. 随机森林](#5)\n",
    "\n",
    "### [- 5.1 分类式随机森林](#5.1)\n",
    "\n",
    "### [- 5.2 回归式随机森林](#5.2)\n",
    "\n",
    "### [- 5.3 预测错误展示](#5.3)\n",
    "\n",
    "## [6. 非数据库图片测试](#6)\n",
    "\n",
    "## [7. 总结](#7)\n",
    "\n",
    "# Homework\n",
    "\n",
    "## [作业1](#HW1)\n",
    "\n",
    "## [作业2](#HW2)\n",
    "\n",
    "## [作业3](#HW3)\n",
    "\n",
    "## [作业4](#HW4)\n",
    "\n",
    "## [作业5](#HW5)"
   ]
  },
  {
   "cell_type": "markdown",
   "metadata": {},
   "source": [
    "# 加载library\n",
    "\n",
    "## 首先让我们将需要的module准备好。"
   ]
  },
  {
   "cell_type": "code",
   "execution_count": 2,
   "metadata": {
    "scrolled": true
   },
   "outputs": [
    {
     "name": "stdout",
     "output_type": "stream",
     "text": [
      "Requirement already satisfied: scikit-image in d:\\softwares\\programfiles\\anaconda\\envs\\pytorch\\lib\\site-packages (0.18.1)\n",
      "Requirement already satisfied: numpy>=1.16.5 in d:\\softwares\\programfiles\\anaconda\\envs\\pytorch\\lib\\site-packages (from scikit-image) (1.20.1)\n",
      "Requirement already satisfied: scipy>=1.0.1 in d:\\softwares\\programfiles\\anaconda\\envs\\pytorch\\lib\\site-packages (from scikit-image) (1.6.0)\n",
      "Requirement already satisfied: matplotlib!=3.0.0,>=2.0.0 in d:\\softwares\\programfiles\\anaconda\\envs\\pytorch\\lib\\site-packages (from scikit-image) (3.3.4)\n",
      "Requirement already satisfied: networkx>=2.0 in d:\\softwares\\programfiles\\anaconda\\envs\\pytorch\\lib\\site-packages (from scikit-image) (2.5)\n",
      "Requirement already satisfied: pillow!=7.1.0,!=7.1.1,>=4.3.0 in d:\\softwares\\programfiles\\anaconda\\envs\\pytorch\\lib\\site-packages (from scikit-image) (8.1.0)\n",
      "Requirement already satisfied: imageio>=2.3.0 in d:\\softwares\\programfiles\\anaconda\\envs\\pytorch\\lib\\site-packages (from scikit-image) (2.9.0)\n",
      "Requirement already satisfied: tifffile>=2019.7.26 in d:\\softwares\\programfiles\\anaconda\\envs\\pytorch\\lib\\site-packages (from scikit-image) (2021.3.17)\n",
      "Requirement already satisfied: PyWavelets>=1.1.1 in d:\\softwares\\programfiles\\anaconda\\envs\\pytorch\\lib\\site-packages (from scikit-image) (1.1.1)\n",
      "Requirement already satisfied: python-dateutil>=2.1 in d:\\softwares\\programfiles\\anaconda\\envs\\pytorch\\lib\\site-packages (from matplotlib!=3.0.0,>=2.0.0->scikit-image) (2.8.1)\n",
      "Requirement already satisfied: pyparsing!=2.0.4,!=2.1.2,!=2.1.6,>=2.0.3 in d:\\softwares\\programfiles\\anaconda\\envs\\pytorch\\lib\\site-packages (from matplotlib!=3.0.0,>=2.0.0->scikit-image) (2.4.7)\n",
      "Requirement already satisfied: cycler>=0.10 in d:\\softwares\\programfiles\\anaconda\\envs\\pytorch\\lib\\site-packages (from matplotlib!=3.0.0,>=2.0.0->scikit-image) (0.10.0)\n",
      "Requirement already satisfied: kiwisolver>=1.0.1 in d:\\softwares\\programfiles\\anaconda\\envs\\pytorch\\lib\\site-packages (from matplotlib!=3.0.0,>=2.0.0->scikit-image) (1.3.1)\n",
      "Requirement already satisfied: six in d:\\softwares\\programfiles\\anaconda\\envs\\pytorch\\lib\\site-packages (from cycler>=0.10->matplotlib!=3.0.0,>=2.0.0->scikit-image) (1.15.0)\n",
      "Requirement already satisfied: decorator>=4.3.0 in d:\\softwares\\programfiles\\anaconda\\envs\\pytorch\\lib\\site-packages (from networkx>=2.0->scikit-image) (4.4.2)\n",
      "Requirement already satisfied: pydotplus in d:\\softwares\\programfiles\\anaconda\\envs\\pytorch\\lib\\site-packages (2.0.2)\n",
      "Requirement already satisfied: pyparsing>=2.0.1 in d:\\softwares\\programfiles\\anaconda\\envs\\pytorch\\lib\\site-packages (from pydotplus) (2.4.7)\n"
     ]
    }
   ],
   "source": [
    "!pip install scikit-image\n",
    "!pip install pydotplus"
   ]
  },
  {
   "cell_type": "code",
   "execution_count": 3,
   "metadata": {
    "pycharm": {
     "name": "#%%\n"
    }
   },
   "outputs": [],
   "source": [
    "import tensorflow as tf    #tensorflow: conda install tensorflow\n",
    "import graphviz    #graphviz: conda install python-graphviz\n",
    "from IPython.display import Image #图像处理及输出 conda install ipython\n",
    "import pandas as pd    #pandas: conda install pandas\n",
    "import pydotplus    #pydotplus: pip install pydotplus\n",
    "import numpy as np    #numpy: conda install numpy\n",
    "import os #读取文件路径module\n",
    "import random #随机数生成module\n",
    "import matplotlib.pyplot as plt #绘图module\n",
    "from warnings import simplefilter\n",
    "import seaborn as sns\n",
    "import cv2\n",
    "simplefilter(action='ignore', category=FutureWarning)#避免大量的FutureWarning"
   ]
  },
  {
   "cell_type": "markdown",
   "metadata": {},
   "source": [
    "# <span id=\"0\">0. 课程摘要</span>\n",
    "前一部分的课程给大家介绍了分类和回归问题的处理方法，这一课给大家介绍一种既可以用于回归问题，也可以用于分类问题的算法：**随机森林**。\n",
    "\n",
    "随机森林是一种灵活，易于使用的机器学习算法，即使没有超参数调整，也能在大多数情况下产生出色的结果。\n",
    "\n",
    "本课内容包括随机森林的组成部分：决策树的原理和生成，随机森林的原理、生成。我们将使用随机森林模型解决一个有趣的问题：手写数字识别问题。\n",
    "\n",
    "<br/>**随机森林**是由不同的**决策树**组成的，所以首先给大家介绍**决策树**。\n",
    "\n"
   ]
  },
  {
   "cell_type": "markdown",
   "metadata": {},
   "source": [
    "# <span id=\"1\">1. 决策树</span>\n",
    "\n",
    "决策树是一种二叉树。在计算机科学中，二叉树（英语：Binary tree）是每个节点最多只有两个分支（即不存在分支度大于2的节点）的树结构。通常分支被称作“左子树”或“右子树”。二叉树的分支具有左右次序，不能随意颠倒。\n",
    "\n",
    "\n"
   ]
  },
  {
   "cell_type": "markdown",
   "metadata": {},
   "source": [
    "### 树的相关知识：\n",
    "\n",
    "> 节点的度：一个节点含有的子树的个数称为该节点的度；\n",
    "<br><br>树的度：一棵树中，最大的节点度称为树的度；\n",
    "<br><br>叶节点或终端节点：度为零的节点；\n",
    "<br><br>父亲节点或父节点：若一个节点含有子节点，则这个节点称为其子节点的父节点；\n",
    "<br><br> 孩子节点或子节点：一个节点含有的子树的根节点称为该节点的子节点；\n",
    "<br><br>兄弟节点：具有相同父节点的节点互称为兄弟节点；\n",
    "<br><br>节点的层次：从根开始定义起，根为第1层，根的子节点为第2层，以此类推；\n",
    "<br><br>深度：对于任意节点n,n的深度为从根到n的唯一路径长，根的深度为0；\n",
    "<br><br>高度：对于任意节点n,n的高度为从n到一片树叶的最长路径长，所有树叶的高度为0；\n",
    "\n",
    "\n",
    "\n",
    "### 例：此处我们以iris dataset的分类问题建立一个决策树。"
   ]
  },
  {
   "cell_type": "code",
   "execution_count": 4,
   "metadata": {
    "pycharm": {
     "name": "#%%\n"
    }
   },
   "outputs": [
    {
     "data": {
      "text/plain": [
       "True"
      ]
     },
     "execution_count": 4,
     "metadata": {},
     "output_type": "execute_result"
    }
   ],
   "source": [
    "from sklearn.datasets import load_iris #鸢尾花数据集\n",
    "from sklearn import tree #决策树module\n",
    "#使用iris数据集\n",
    "iris = load_iris()\n",
    "\n",
    "#样例：分类树\n",
    "clf = tree.DecisionTreeClassifier()\n",
    "clf = clf.fit(iris.data, iris.target)\n",
    "dot_data = tree.export_graphviz(clf, out_file=None, \n",
    "feature_names=iris.feature_names,  \n",
    "class_names=iris.target_names,  \n",
    "filled=True, rounded=True,  \n",
    "special_characters=True                                \n",
    ")\n",
    "\n",
    "#作图\n",
    "graph = pydotplus.graph_from_dot_data(dot_data)\n",
    "img = Image(graph.create_png())\n",
    "graph.write_png(\"Example_1.png\")\n",
    "#下面进行决策树图片的输出"
   ]
  },
  {
   "cell_type": "markdown",
   "metadata": {},
   "source": [
    "<img src=\"Example_1.png\" style=\"zoom:65%\" />\n",
    "<br/><center><font size=5>Example 1: A decision tree for the iris dataset</font></center>\n",
    "\n",
    "<br/><font size=4> \n",
    "    图注： \n",
    "    - sample：该节点所包含的样本数量。\n",
    "    \n",
    "    - value：该节点中样本对应的各类鸢尾花的数量，该list中第一个元素为山鸢尾数量，第二个为变色鸢尾数量，第三个为维吉尼亚鸢尾数量。\n",
    "    \n",
    "    - class：该节点的输出（山鸢尾 (Setosa)、变色鸢尾 (Versicolour) 和维吉尼亚鸢尾 (Virginica)）\n",
    "    \n",
    "    - gini：该节点的基尼指数。\n",
    "    \n",
    "    - 颜色：该节点的输出。褐色为山鸢尾，绿色为变色鸢尾，紫色为维吉尼亚鸢尾。深浅度代表了所得结果的概率大小。\n",
    "    \n",
    "    决策树以基尼指数(gini)为拓展分支的准则，在下面的内容里我们将介绍这一重要概念。\n",
    "</font>\n",
    "\n"
   ]
  },
  {
   "cell_type": "markdown",
   "metadata": {},
   "source": [
    "# <span id=\"2\">2. 分类决策树</span>\n",
    "\n",
    "#### 分类树分析是当预计结果可能为离散类型（例如三个种类的花，输赢等）使用的概念。\n",
    "\n",
    "- 特征和特征数值如何选取：\n",
    "\n",
    "    - 基尼指数\n",
    "        - 基尼指数$Gini(D)$表示集合$D$不确定性，基尼指数$Gini(D，A=a)$表示集合D经$A=a$分割后的不确定性(类似于熵)，\n",
    "        - 基尼指数越小，样本的不确定性越小。\n",
    "        - 基尼值是指从一个样本集中选择2个样本，这2个样本不属于同一类的概率：\n",
    "        $$ Gini(D)=\\sum^K_{k=1}p_k(1-p_k)=1-\\sum^K_{k=1}p_k^2 $$\n",
    "        $$ Gini(D,A=a)=\\frac{D_1}{D}Gini(D1)+\\frac{D_2}{D}Gini(D2)=\\sum^V_{v=1}\\frac{|D_v|}{|D|}Gini(D_v) $$\n",
    "    - 通过基尼指数选择特征\n",
    "        - 可以看出基尼值越小说明该数据集中不同类的数据越少，即数据集纯度越高。\n",
    "        - 在所有可能的特征A以及该特征所有的可能取值$a$中，选择基尼指数最小的特征及其对应的取值作为最优特征和最优切分点。\n",
    "\n",
    "        当特征A所对应的值为连续值时，对样本的特征A的值$a$进行升序排序，从小到大取相邻两个值的平均值作为阈值进行划分，在所有切分点中，基尼指数最小的即为最优切分点。"
   ]
  },
  {
   "cell_type": "markdown",
   "metadata": {},
   "source": [
    "### 例：以体重与患心脏病情况的关系为例来说明如何生成分类二叉树。\n",
    "\n",
    "Source: https://www.youtube.com/watch?v=7VeUPuFGJHk&t=779s\n"
   ]
  },
  {
   "cell_type": "markdown",
   "metadata": {},
   "source": [
    "<br/><img src=\"classifier_tree_1.png\" style=\"zoom:45%\" />\n",
    "<br/><center><font size=3 color=\"blue\">这是该问题的一个简单的数据集。</font></center>"
   ]
  },
  {
   "cell_type": "markdown",
   "metadata": {},
   "source": [
    "<br/><img src=\"classifier_tree_2.png\" style=\"zoom:45%\" />\n",
    "<br/><center><font size=3 color=\"blue\">第一步，将样本按照连续型特征的大小进行排序。</font></center>"
   ]
  },
  {
   "cell_type": "markdown",
   "metadata": {},
   "source": [
    "<br/><img src=\"classifier_tree_3.jpg\" style=\"zoom:35%\" />\n",
    "<br/><center><font size=3 color=\"blue\">第二步，计算两相邻样本该特征的平均值，作为备选的切分点。</font></center>"
   ]
  },
  {
   "cell_type": "markdown",
   "metadata": {},
   "source": [
    "<br/><img src=\"classifier_tree_4.jpg\" style=\"zoom:40%\" />\n",
    "<br/><center><font size=2 color=\"blue\">例：计算基尼指数。</font></center>\n",
    "<br/><img src=\"classifier_tree_5.jpg\" style=\"zoom:40%\" />\n",
    "<br/><center><font size=3 color=\"blue\">第三步，计算每个切分点对应的基尼指数。</font></center>"
   ]
  },
  {
   "cell_type": "markdown",
   "metadata": {},
   "source": [
    "<br/><img src=\"regression_tree_3.png\" style=\"zoom:50%\" />\n",
    "<br/><img src=\"regression_tree_3.1.jpeg\" style=\"zoom:30%\" />\n",
    "<br/><center><font size=3 color=\"blue\">寻找函数最小值所对应的切分点特征及其取值，即为最佳切分点。</font></center>"
   ]
  },
  {
   "cell_type": "markdown",
   "metadata": {},
   "source": [
    "<br/><img src=\"classifier_tree_6.jpg\" style=\"zoom:70%\" />\n",
    "<br/><center><font size=3 color=\"blue\">第四步，选取最小基尼指数对应的切分点作为最终切分点。</font></center>"
   ]
  },
  {
   "cell_type": "markdown",
   "metadata": {},
   "source": [
    "<br/><center><font size=3 color=\"blue\">第五步，对每个子节点循环第二步～第四步直至无法再分。</font></center>"
   ]
  },
  {
   "cell_type": "markdown",
   "metadata": {},
   "source": [
    "### <span id='HW1'>作业1</span>：\n",
    "写一个函数来计算基尼指数。**（请在编写代码部分完成作业1）**"
   ]
  },
  {
   "cell_type": "code",
   "execution_count": 5,
   "metadata": {
    "pycharm": {
     "name": "#%%\n"
    }
   },
   "outputs": [],
   "source": [
    "######Mission 1: Compute Gini coefficient.######\n",
    "\n",
    "\n",
    "#问题描述: 现有一贷款申请样本数据表，\n",
    "\n",
    "#共15组样本，4个特征，\n",
    "\n",
    "#特征的取值是离散的，\n",
    "\n",
    "#输出为申请贷款结果class，\n",
    "\n",
    "#现需要根据样本数据表计算各种分割方式的基尼指数。\n",
    "\n",
    "\n",
    "\n",
    "\n",
    "\n",
    "\n",
    "#####################################\n",
    "\n",
    "    \n",
    "    \n",
    "\n"
   ]
  },
  {
   "cell_type": "code",
   "execution_count": 6,
   "metadata": {
    "pycharm": {
     "name": "#%%\n"
    }
   },
   "outputs": [
    {
     "name": "stdout",
     "output_type": "stream",
     "text": [
      "      age work house     credit   class\n",
      "0   youth   no    no     common  refuse\n",
      "1   youth   no    no       good  refuse\n",
      "2   youth  yes    no       good   agree\n",
      "3   youth  yes   yes     common   agree\n",
      "4   youth   no    no     common  refuse\n",
      "5     mid   no    no     common  refuse\n",
      "6     mid   no    no       good  refuse\n",
      "7     mid  yes   yes       good   agree\n",
      "8     mid   no   yes  excellent   agree\n",
      "9     mid   no   yes  excellent   agree\n",
      "10  elder   no   yes  excellent   agree\n",
      "11  elder   no   yes       good   agree\n",
      "12  elder  yes    no       good   agree\n",
      "13  elder  yes    no  excellent   agree\n",
      "14  elder   no    no     common  refuse \n",
      "\n"
     ]
    }
   ],
   "source": [
    "#此处为讲解基尼指数的计算方法和过程加载贷款申请样本数据表\n",
    "#读取数据集\n",
    "dataset = pd.read_csv(r\"datasetForGini.csv\")\n",
    "#输出数据集\n",
    "print(dataset,\"\\n\")"
   ]
  },
  {
   "cell_type": "code",
   "execution_count": 7,
   "metadata": {
    "pycharm": {
     "name": "#%%\n"
    }
   },
   "outputs": [
    {
     "name": "stdout",
     "output_type": "stream",
     "text": [
      "特征有: ['age', 'work', 'house', 'credit']\n"
     ]
    }
   ],
   "source": [
    "#获得特征种类\n",
    "features = []\n",
    "#了解特征详情\n",
    "for i in dataset.columns:\n",
    "    features.append(i)\n",
    "\n",
    "features.pop()#不要最后一列的标签（指class：agree/refuse）\n",
    "\n",
    "print(\"特征有:\",features)\n"
   ]
  },
  {
   "cell_type": "markdown",
   "metadata": {},
   "source": [
    "**编写代码部分：**"
   ]
  },
  {
   "cell_type": "code",
   "execution_count": 8,
   "metadata": {
    "pycharm": {
     "name": "#%%\n"
    }
   },
   "outputs": [],
   "source": [
    "#设计Gini函数求基尼指数，其中参数dataset是数据集，feature为所选特征，value为所选特征的取值(当然也可以不使用这里给出的参数)。\n",
    "#这个函数返回对应特征取值得到的基尼指数(保留两位小数)。\n",
    "#提示：根据之前给出的计算公式设计此函数\n",
    "\n",
    "def Gini(dataset,feature,value):\n",
    "    data = dataset.loc[dataset[feature]==value]\n",
    "    y = 0;\n",
    "    n = 0;\n",
    "    for i in data['class']:\n",
    "        if i == 'agree':\n",
    "            y += 1\n",
    "        else:\n",
    "            n += 1\n",
    "    return (1 - (y/(y+n))**2 - (n/(y+n))**2)"
   ]
  },
  {
   "cell_type": "code",
   "execution_count": 9,
   "metadata": {
    "pycharm": {
     "name": "#%%\n"
    }
   },
   "outputs": [
    {
     "name": "stdout",
     "output_type": "stream",
     "text": [
      "0.48\n",
      "0.31999999999999984\n",
      "0.0\n",
      "0.4444444444444444\n",
      "0.0\n",
      "0.31999999999999984\n",
      "0.4444444444444445\n"
     ]
    }
   ],
   "source": [
    "#进行基尼指数输出\n",
    "# print(\"选择的特征是age，取值是youth, 基尼指数为： \",Gini())\n",
    "\n",
    "print(Gini(dataset,'age','youth'))\n",
    "\n",
    "# print(\"选择的特征是age，取值是elder, 基尼指数为： \",Gini())\n",
    "print(Gini(dataset,'age','elder'))\n",
    "\n",
    "# print(\"选择的特征是work，取值是yes, 基尼指数为： \",Gini())\n",
    "print(Gini(dataset,'work','yes'))\n",
    "\n",
    "# print(\"选择的特征是house，取值是no, 基尼指数为： \",Gini())\n",
    "print(Gini(dataset,'house','no'))\n",
    "\n",
    "# print(\"选择的特征是house，取值是yes, 基尼指数为： \",Gini())\n",
    "print(Gini(dataset,'house','yes'))\n",
    "\n",
    "# print(\"选择的特征是credit，取值是common, 基尼指数为： \",Gini())\n",
    "print(Gini(dataset,'credit','common'))\n",
    "\n",
    "# print(\"选择的特征是credit，取值是good, 基尼指数为： \",Gini())\n",
    "print(Gini(dataset,'credit','good'))"
   ]
  },
  {
   "cell_type": "markdown",
   "metadata": {},
   "source": [
    "**决策树的输出值为树叶上大多数样本所属的类别：**\n",
    "\n",
    "如上图例1所示，每个节点都有一个class数据成员。\n",
    "\n",
    "譬如训练样本包括A,B,C三个类别，某一树叶上对应8个A类样本，2个B类样本，1个C类样本，那么这个树叶的输出则是A类别。\n"
   ]
  },
  {
   "cell_type": "markdown",
   "metadata": {},
   "source": [
    "**附：其它选择特征的方式**：\n",
    "\n",
    "**信息熵**(information entropy)是度量样本集合纯度的一种常用指标。\n",
    "\n",
    "我们可以通过与之相关的**信息增益**选取特征。\n",
    "\n",
    "（简单了解即可）"
   ]
  },
  {
   "cell_type": "markdown",
   "metadata": {},
   "source": [
    "# <span id=\"3\">3. 回归决策树</span>\n",
    "\n",
    "回归决策树是可以用于回归的决策树模型，一个回归树对应着输入空间（即特征空间）的一个划分以及在划分单元上的输出值。\n",
    "\n",
    "在生成和输出过程中，回归决策树和分类决策树主要有两点不同：\n",
    "\n",
    "- 特征选择\n",
    "\n",
    "假设X和Y分别为输入和输出变量，并且Y是连续变量，给定训练数据集为$D=\\left \\{ (x_1,y_1 ),(x_2,y_2 ),...,(x_N,y_N) \\right \\}$，其中$\\small x_i=(x_{i}^{(1)},x_{i}^{(2)},...,x_{i}^{(n)})$为输入实例(特征向量)，n为特征个数，i=1,2,...,N, N为样本容量。\n",
    "\n",
    "特征$j$和特征取值$s$：\n",
    "\n",
    "$$R_1(j,s)={x|x^{(j)}<=s}$$\n",
    "$$R_2(j,s)={x|x^{(j)}>s}$$\n",
    "$$min_{j,s}{[\\sum_{x_i\\in R_1{(j,s)}}({y_i-\\hat{c_1}})^2+\\sum_{x_i\\in R_2{(j,s)}}({y_i-\\hat{c_2}})^2]} $$\n",
    "\n",
    "其中$\\small \\hat{c_1}=\\frac{1}{N_1}\\sum_{x_i\\in R_1(j,s)}y_i$，   $\\small \\hat{c_2}=\\frac{1}{N_2}\\sum_{x_i\\in R_2(j,s)}y_i$。\n",
    "\n",
    "找到最优的切分点$(j,s)$后，依次将输入空间划分为两个区域，接着对每个区域重复上述划分过程，直到满足停止条件为止。这样就生成了一棵回归树，这样的回归树通常称为最小二乘回归树。\n",
    "\n",
    "- 输出值\n",
    "\n",
    "输出值为单元内每个样本点的值的均值。"
   ]
  },
  {
   "cell_type": "markdown",
   "metadata": {},
   "source": [
    "### 例：药物剂量\n",
    "Source: https://www.youtube.com/watch?v=g9c66TUylZ4&t=769s\n",
    "#### 此视频中的问题是一个单特征问题（Drug-Effective - Drug Dosage）。"
   ]
  },
  {
   "cell_type": "markdown",
   "metadata": {},
   "source": [
    "<br/><img src=\"regression_tree_1.1.png\" style=\"zoom:30%\" />\n",
    "<br/><center><font size=3 color=\"blue\">这是本例所使用的数据集，</font></center>"
   ]
  },
  {
   "cell_type": "markdown",
   "metadata": {},
   "source": [
    "<br/><img src=\"regression_tree_1.2.png\" style=\"zoom:60%\" />\n",
    "<br/><center><font size=3 color=\"blue\">这是根据数据集画出的散点图，使用它来进行讲解。</font></center>"
   ]
  },
  {
   "cell_type": "markdown",
   "metadata": {},
   "source": [
    "<br/><img src=\"regression_tree_2.1.jpg\" style=\"zoom:40%\" />\n",
    "<br/><center><font size=3 color=\"blue\">首先我们选取切分点进行切分，将所有数据点根据切分条件（红线）分入两个子集$s_1,s_2$（图左侧），</font></center>\n",
    "<br/><center><font size=3 color=\"blue\">其次我们计算每个样本点的预测值与所属子集的所有样本点观测值的平均值的平方差（图右侧），</font></center>\n",
    "<br/><center><font size=3 color=\"blue\">将所有平方差作求和得到最终的目标函数，是一个关于切分点取值的函数。</font></center>"
   ]
  },
  {
   "cell_type": "markdown",
   "metadata": {},
   "source": [
    "<br/><img src=\"regression_tree_2.2.jpg\" style=\"zoom:40%\" />\n",
    "<br/><center><font size=3 color=\"blue\">之后我们更换切分点取值，再进行一次上述操作</font></center>"
   ]
  },
  {
   "cell_type": "markdown",
   "metadata": {},
   "source": [
    "# <span id=\"4\">4. 本课任务介绍：手写数字识别问题</span>\n",
    "\n",
    "输入为手写数字数据集，样本为三维数组$x_i\\in R^ {N\\times s_1\\times s_2}$，每个样本对应0~9中的一个数字。\n",
    "\n",
    "**作为10类别分类问题，输出为0~9。**\n",
    "\n",
    "**也可以作为回归问题处理。**\n"
   ]
  },
  {
   "cell_type": "markdown",
   "metadata": {},
   "source": [
    "## <span id=\"4.1\">4.1 MNIST介绍</span>\n",
    "\n",
    "MNIST数据集(Mixed National Institute of Standards and Technology database)是美国国家标准与技术研究院收集整理的大型手写数字数据库。"
   ]
  },
  {
   "cell_type": "code",
   "execution_count": 10,
   "metadata": {
    "pycharm": {
     "name": "#%%\n"
    }
   },
   "outputs": [
    {
     "name": "stdout",
     "output_type": "stream",
     "text": [
      "[[[0 0 0 ... 0 0 0]\n",
      "  [0 0 0 ... 0 0 0]\n",
      "  [0 0 0 ... 0 0 0]\n",
      "  ...\n",
      "  [0 0 0 ... 0 0 0]\n",
      "  [0 0 0 ... 0 0 0]\n",
      "  [0 0 0 ... 0 0 0]]\n",
      "\n",
      " [[0 0 0 ... 0 0 0]\n",
      "  [0 0 0 ... 0 0 0]\n",
      "  [0 0 0 ... 0 0 0]\n",
      "  ...\n",
      "  [0 0 0 ... 0 0 0]\n",
      "  [0 0 0 ... 0 0 0]\n",
      "  [0 0 0 ... 0 0 0]]\n",
      "\n",
      " [[0 0 0 ... 0 0 0]\n",
      "  [0 0 0 ... 0 0 0]\n",
      "  [0 0 0 ... 0 0 0]\n",
      "  ...\n",
      "  [0 0 0 ... 0 0 0]\n",
      "  [0 0 0 ... 0 0 0]\n",
      "  [0 0 0 ... 0 0 0]]\n",
      "\n",
      " ...\n",
      "\n",
      " [[0 0 0 ... 0 0 0]\n",
      "  [0 0 0 ... 0 0 0]\n",
      "  [0 0 0 ... 0 0 0]\n",
      "  ...\n",
      "  [0 0 0 ... 0 0 0]\n",
      "  [0 0 0 ... 0 0 0]\n",
      "  [0 0 0 ... 0 0 0]]\n",
      "\n",
      " [[0 0 0 ... 0 0 0]\n",
      "  [0 0 0 ... 0 0 0]\n",
      "  [0 0 0 ... 0 0 0]\n",
      "  ...\n",
      "  [0 0 0 ... 0 0 0]\n",
      "  [0 0 0 ... 0 0 0]\n",
      "  [0 0 0 ... 0 0 0]]\n",
      "\n",
      " [[0 0 0 ... 0 0 0]\n",
      "  [0 0 0 ... 0 0 0]\n",
      "  [0 0 0 ... 0 0 0]\n",
      "  ...\n",
      "  [0 0 0 ... 0 0 0]\n",
      "  [0 0 0 ... 0 0 0]\n",
      "  [0 0 0 ... 0 0 0]]]\n"
     ]
    }
   ],
   "source": [
    "sns.set_style('white')\n",
    "\n",
    "#加载MNIST数据集\n",
    "hand_written_digits = list(tf.keras.datasets.mnist.load_data()[0])\n",
    "\n",
    "\n",
    "\n",
    "#取前12000个样本\n",
    "#获得样本X\n",
    "hand_written_digits[0]=hand_written_digits[0][0:12000]\n",
    "#获得标签y\n",
    "hand_written_digits[1]=hand_written_digits[1][0:12000]\n",
    "print(hand_written_digits[0])\n"
   ]
  },
  {
   "cell_type": "markdown",
   "metadata": {},
   "source": [
    "### <span id='HW2'>作业2：</span>\n",
    "补充下一个代码块使其能够按顺序展示0～9，每个标签各一个样本。"
   ]
  },
  {
   "cell_type": "code",
   "execution_count": 11,
   "metadata": {},
   "outputs": [
    {
     "name": "stdout",
     "output_type": "stream",
     "text": [
      "MNIST样例\n"
     ]
    },
    {
     "data": {
      "image/png": "[encoded data removed]",
      "text/plain": [
       "<Figure size 1080x576 with 10 Axes>"
      ]
     },
     "metadata": {},
     "output_type": "display_data"
    }
   ],
   "source": [
    "#添加代码使mnist_example从hand_written_digits处获得样本。\n",
    "mnist_example=[]\n",
    "for i in range(10):\n",
    "    for j in range(len(hand_written_digits[0])):\n",
    "        if hand_written_digits[1][j] == i:\n",
    "            mnist_example.append(hand_written_digits[0][j])\n",
    "            break\n",
    "\n",
    "print(\"MNIST样例\")\n",
    "plt.figure(figsize=(15,8))            \n",
    "for i in range(1,len(mnist_example)+1):\n",
    "    ax=plt.subplot(2,5,i)\n",
    "    ax.matshow(mnist_example[i-1])\n",
    "    ax.set_title(\"A sample of %d\\n\"%(i-1))\n",
    "plt.show()"
   ]
  },
  {
   "cell_type": "markdown",
   "metadata": {},
   "source": [
    "所以，我们这次课的任务具体地说，则是：\n",
    "\n",
    "**建立一个模型：**\n",
    "- 输入为一个包含手写文字的图片，尺寸大小是28*28，合计 $28\\times28=784$个特征。\n",
    "\n",
    "- 输出为手写文字图片对应的数字。\n"
   ]
  },
  {
   "cell_type": "markdown",
   "metadata": {},
   "source": [
    "## <span id=\"4.2\">4.2 数据的预处理</span>\n",
    "\n",
    "1. 扁平化：使二维数组（矩阵）一维化（向量）以便于处理数据\n",
    "\n",
    "2. 二值化：使元素取值取0或255，设定一个阈值，大于此阈值的元素取255，小于此阈值的元素取0。"
   ]
  },
  {
   "cell_type": "code",
   "execution_count": 12,
   "metadata": {
    "pycharm": {
     "name": "#%%\n"
    }
   },
   "outputs": [
    {
     "name": "stdout",
     "output_type": "stream",
     "text": [
      "(12000, 784)\n",
      "(12000, 28, 28)\n"
     ]
    }
   ],
   "source": [
    "#数据扁平化\n",
    "dataLen=len(hand_written_digits[0])\n",
    "flattenData=np.reshape(hand_written_digits[0],(dataLen,28*28))\n",
    "\n",
    "'''二值化：使元素取值取0或255\n",
    "设定一个阈值，大于此阈值的元素取255，小于此阈值的元素取0'''\n",
    "def binarization(data,threshold):\n",
    "    for i in data:\n",
    "        for j in range(len(i)):\n",
    "            if i[j]>=threshold:\n",
    "                i[j]=255\n",
    "            else:\n",
    "                i[j]=0\n",
    "    return data  \n",
    "\n",
    "flattenData=binarization(flattenData,100)\n",
    "# 扁平化后的数据集shape\n",
    "print(flattenData.shape)\n",
    "print(hand_written_digits[0].shape)"
   ]
  },
  {
   "cell_type": "code",
   "execution_count": 13,
   "metadata": {
    "pycharm": {
     "name": "#%%\n"
    }
   },
   "outputs": [
    {
     "data": {
      "image/png": "[encoded data removed]",
      "text/plain": [
       "<Figure size 1080x576 with 5 Axes>"
      ]
     },
     "metadata": {},
     "output_type": "display_data"
    }
   ],
   "source": [
    "#数据可视化(Heatmap)\n",
    "#二值化后的Heatmap\n",
    "\n",
    "#随机选取5个样本进行展示\n",
    "indexs=np.random.randint(200,size=5)\n",
    "\n",
    "plt.figure(figsize=(15,8))  \n",
    "i=0\n",
    "for index in indexs:\n",
    "    ax=plt.subplot(1,len(indexs),i+1)\n",
    "    ax.matshow(hand_written_digits[0][index])\n",
    "    ax.set_title(\"Heatmap of %d\\n\"%(hand_written_digits[1][index]))\n",
    "    i+=1\n",
    "\n",
    "plt.show() "
   ]
  },
  {
   "cell_type": "markdown",
   "metadata": {},
   "source": [
    "<center><font size=4 color=\"red\">可以看出，经过二值化的样本的热图不再有渐变色，因为每个像素点的取值非0即255。</font></center>"
   ]
  },
  {
   "cell_type": "markdown",
   "metadata": {},
   "source": [
    "# <span id=\"5\">5. 随机森林</span>\n",
    "\n",
    "在机器学习中，随机森林是一个包含多个决策树的分类器，并且其输出的类别是由个别树输出的类别的众数而定。 Leo Breiman和Adele Cutler发展出推论出随机森林的算法。\n",
    "\n",
    "随机森林就是通过集成学习的思想将多棵树集成的一种算法，它的基本单元是决策树，而它的本质属于机器学习的一大分支——集成学习（Ensemble Learning）方法。\n",
    "\n",
    "### 随机森林可以看作是决策树的组合\n",
    "1. 树的数量的影响（训练时间、欠拟合/过拟合）\n",
    "2. 随机抽取样本进行决策树的构造\n",
    "3. 随机抽取特征进行决策树的构造\n"
   ]
  },
  {
   "cell_type": "markdown",
   "metadata": {},
   "source": [
    "### 随机森林的随机性\n",
    "\n",
    "- 样本的随机性\n",
    "\n",
    "如果训练集大小为N，对于每棵树而言，随机且有放回地从训练集中的抽取N个训练样本，作为该树的训练集。（询问家人、朋友的意见时，每个人以前去过的旅游地是不一样的，所以训练集是不同的。这其实是bagging。）\n",
    "- 特征的随机性\n",
    "\n",
    "如果每个样本的特征维度为M，指定一个常数m<<M，随机地从M个特征中选取m个特征子集，每次树进行分裂时，从这m个特征中选择最优的。（询问家人、朋友的意见时，每个人考虑的要素是不同的，有人考虑价格，有人考虑交通，所以特征的选取是不同的）\n"
   ]
  },
  {
   "cell_type": "markdown",
   "metadata": {},
   "source": [
    "### 数据集的划分\n",
    "\n",
    "**随机森林是一种监督学习的算法，所以我们要对数据集进行划分：将其划分为训练集和测试集**"
   ]
  },
  {
   "cell_type": "markdown",
   "metadata": {},
   "source": [
    "### <span id='HW3'>作业3：</span>\n",
    "复习sklearn.model_selection.train_test_split函数并将hand_written_digits进行数据集划分，测试集大小为数据集的四分之一\n",
    "<br>**注：hand_written_digits[0]为数据集X，hand_written_digits[1]为标签集y。**"
   ]
  },
  {
   "cell_type": "code",
   "execution_count": 14,
   "metadata": {
    "pycharm": {
     "name": "#%%\n"
    }
   },
   "outputs": [],
   "source": [
    "#划分数据集\n",
    "from sklearn import model_selection\n",
    "X_train, X_test, y_train, y_test = model_selection.train_test_split(hand_written_digits[0], hand_written_digits[1],test_size=0.25, \n",
    "                                                    random_state = 20, shuffle=True)\n",
    "\n",
    "# 使数据集中样本数据扁平化\n",
    "X_train=np.reshape(X_train,(9000,28*28))\n",
    "X_test=np.reshape(X_test,(3000,28*28))"
   ]
  },
  {
   "cell_type": "markdown",
   "metadata": {},
   "source": [
    "## <span id=\"5.1\">5.1 分类式随机森林</span>\n",
    "\n",
    "分类式随机森林由多棵分类决策树构成。"
   ]
  },
  {
   "cell_type": "markdown",
   "metadata": {},
   "source": [
    "<img src=\"racoon.png\" style=\"zoom:80%\">\n",
    "<center><font size=4 color=blue>一个分类式随机森林的例子</font><center>\n",
    "<br/><font size=3>\n",
    "    图注：\n",
    "    每棵树是一颗分类决策树，对输入给出自己的结果，最后综合所有决策树的结果给出随机森林的结果。\n",
    "</font>"
   ]
  },
  {
   "cell_type": "code",
   "execution_count": 15,
   "metadata": {
    "pycharm": {
     "name": "#%%\n"
    }
   },
   "outputs": [],
   "source": [
    "#样例：随机森林及其参数\n",
    "from sklearn.ensemble import RandomForestClassifier\n",
    "\n",
    "rfc_example = RandomForestClassifier(n_estimators=10, criterion='gini', max_depth=None,\n",
    "                                     min_samples_split=2, min_samples_leaf=1, min_weight_fraction_leaf=0.0,\n",
    "                                     max_features='auto', max_leaf_nodes=None, min_impurity_split=1e-07,\n",
    "                                     bootstrap=True, oob_score=False, n_jobs=1, random_state=None, \n",
    "                                     verbose=0,warm_start=False, class_weight=None)"
   ]
  },
  {
   "cell_type": "markdown",
   "metadata": {},
   "source": [
    "### <span id='rfc'>Sklearn分类式随机森林函数中的参数</span>\n",
    "\n",
    "1. criterion: ”gini” or “entropy”(default=”gini”)是计算属性的gini(基尼指数)还是entropy(信息增益)，来选择最合适的节点。\n",
    "\n",
    "2. max_depth: (default=None)设置树的最大深度，默认为None，这样建树时，会使每一个叶节点只有一个类别，或是达到min_samples_split。\n",
    "\n",
    "3. min_samples_split: 根据属性划分节点时，每个划分最少的样本数。\n",
    "\n",
    "4. n_estimators: 决策树的个数。\n",
    "\n",
    "5. oob_score=False：oob（out of bag，袋外）数据，即：在某次决策树训练中没有被bootstrap选中的数据。\n",
    "\n",
    "6. n_jobs=1：并行job个数。可通过并行提高性能。(n_job=-1时，有多少个core就可以启动多少个job)\n",
    "\n"
   ]
  },
  {
   "cell_type": "markdown",
   "metadata": {},
   "source": [
    "### 将问题视为分类问题："
   ]
  },
  {
   "cell_type": "code",
   "execution_count": 16,
   "metadata": {
    "pycharm": {
     "name": "#%%\n"
    }
   },
   "outputs": [
    {
     "name": "stdout",
     "output_type": "stream",
     "text": [
      "Score =  0.9443333333333334\n"
     ]
    }
   ],
   "source": [
    "#构造随机森林（默认参数，使用n_jobs=-1来加速训练速度）\n",
    "\n",
    "rfc = RandomForestClassifier(n_jobs=-1)\n",
    "rfc.fit(X_train, y_train)\n",
    "print(\"Score = \",rfc.score(X_test, y_test))"
   ]
  },
  {
   "cell_type": "markdown",
   "metadata": {},
   "source": [
    "### 超参数对模型性能的影响\n",
    "\n",
    "- 过拟合：\n",
    "\n",
    "模型过于复杂会导致过拟合，表现为在训练集上的得分较高，但是泛化能力差，在测试集上的得分较低。\n",
    "\n",
    "在本问题中，max_depth过大或n_estimator过大会导致过拟合。\n",
    "\n",
    "- 欠拟合：\n",
    "\n",
    "模型过于简单会导致欠拟合，表现为在训练集上和在测试集上得分都较低。\n",
    "\n",
    "在本问题中，max_depth过大或n_estimator过低会导致过拟合。"
   ]
  },
  {
   "cell_type": "code",
   "execution_count": 17,
   "metadata": {
    "pycharm": {
     "name": "#%%\n"
    }
   },
   "outputs": [
    {
     "data": {
      "image/png": "[encoded data removed]",
      "text/plain": [
       "<Figure size 432x288 with 1 Axes>"
      ]
     },
     "metadata": {},
     "output_type": "display_data"
    }
   ],
   "source": [
    "sns.set_style(\"whitegrid\")\n",
    "#观察决策树数目对模型accuracy的影响\n",
    "x=np.linspace(20,200,30)\n",
    "y=[]\n",
    "for i in np.linspace(20,200,30):\n",
    "    rfc_i = RandomForestClassifier(n_estimators=int(i+0.5),n_jobs=-1)\n",
    "    rfc_i.fit(X_train, y_train)\n",
    "    y.append(rfc_i.score(X_test, y_test))\n",
    "#画图观察performance-n_estimators关系\n",
    "plt.plot(x,y,c=\"g\")\n",
    "plt.title(\"The relationship between performance and n_estimators\",fontsize='xx-large',fontweight='heavy',color=\"green\")\n",
    "plt.xlabel(\"n_estimators\")\n",
    "plt.ylabel(\"Test Score\")\n",
    "plt.show()"
   ]
  },
  {
   "cell_type": "code",
   "execution_count": 18,
   "metadata": {
    "pycharm": {
     "name": "#%%\n"
    }
   },
   "outputs": [
    {
     "data": {
      "image/png": "[encoded data removed]",
      "text/plain": [
       "<Figure size 432x288 with 1 Axes>"
      ]
     },
     "metadata": {},
     "output_type": "display_data"
    }
   ],
   "source": [
    "#观察决策树最大深度对模型accuracy的影响\n",
    "x=np.linspace(2,29,28)\n",
    "y=[]\n",
    "for i in range(2,30):\n",
    "    rfc_i = RandomForestClassifier(max_depth=i,n_jobs=-1)\n",
    "    rfc_i.fit(X_train, y_train)\n",
    "    y.append(rfc_i.score(X_test,y_test))\n",
    "plt.plot(x,y,c=\"r\")\n",
    "plt.title(\"The relationship between performance and max_depth\",fontsize='xx-large',fontweight='heavy',color=\"red\")\n",
    "plt.xlabel(\"max_depth\")\n",
    "plt.ylabel(\"Test Score\")\n",
    "\n",
    "plt.show()"
   ]
  },
  {
   "cell_type": "markdown",
   "metadata": {},
   "source": [
    "**可以看出，在本问题中，所选择的两个参数取值过小会导致欠拟合，但取值较大时并不容易产生过拟合（随着参数取值的不断增大，模型性能没有减弱）。**"
   ]
  },
  {
   "cell_type": "code",
   "execution_count": 19,
   "metadata": {
    "pycharm": {
     "name": "#%%\n"
    }
   },
   "outputs": [
    {
     "name": "stdout",
     "output_type": "stream",
     "text": [
      "测试分数 =  0.9483333333333334\n"
     ]
    }
   ],
   "source": [
    "#rfct为最终选择的随机森林模型\n",
    "rfct = RandomForestClassifier(n_estimators=100,max_depth=25)\n",
    "rfct.fit(X_train, y_train)\n",
    "print(\"测试分数 = \",rfct.score(X_test, y_test))\n",
    "#用一个list存放被错误分类的数据信息\n",
    "w=[]\n",
    "for i in range(len(X_test)):\n",
    "    pred=rfct.predict(X_test[i].reshape(1,-1))[0]\n",
    "    if pred!=y_test[i]:\n",
    "        w.append([X_test[i],pred,y_test[i]])\n"
   ]
  },
  {
   "cell_type": "markdown",
   "metadata": {},
   "source": [
    "### 分类式随机森林决策过程："
   ]
  },
  {
   "cell_type": "markdown",
   "metadata": {},
   "source": [
    "### <span id='HW4'>作业4</span>：\n",
    "观察统计随机森林中所有决策树对某一个样本预测的结果。绘制柱状图。"
   ]
  },
  {
   "cell_type": "code",
   "execution_count": 20,
   "metadata": {
    "pycharm": {
     "name": "#%%\n"
    }
   },
   "outputs": [
    {
     "name": "stdout",
     "output_type": "stream",
     "text": [
      "[0 0 0 0 0 0 0 0 0 0]\n",
      "   digits  num\n",
      "0       0    1\n",
      "1       2    3\n",
      "2       4    5\n",
      "3       6    7\n",
      "4       8    9\n",
      "5       6   13\n",
      "6       2    8\n",
      "7       1    2\n",
      "8       5    5\n",
      "9      55    3\n"
     ]
    },
    {
     "data": {
      "image/png": "[encoded data removed]",
      "text/plain": [
       "<Figure size 576x360 with 1 Axes>"
      ]
     },
     "metadata": {},
     "output_type": "display_data"
    },
    {
     "name": "stdout",
     "output_type": "stream",
     "text": [
      "正确答案是:  1\n"
     ]
    }
   ],
   "source": [
    "# 补充该cell。\n",
    "plt.figure(figsize=(8,5))\n",
    "#调取随机森林模型的estimators_数据成员以获取随机森林中决策树们的信息\n",
    "Estimators = rfct.estimators_\n",
    "\n",
    "x=np.arange(0,10)\n",
    "\n",
    "#此处以数组y来统计vote结果。\n",
    "y=np.zeros(10,dtype=\"int\")\n",
    "print(y)\n",
    "\n",
    "#随机选取一个样本\n",
    "random_index=random.randint(0,200)\n",
    "\n",
    "#补充此处：统计所有决策树对X_test[random_index]给出的结果\n",
    "# 提示：使用enumerate, 获取模型对样本的预测可以使用int(model.predict(X_test[random_index].reshape(1,-1))[0])。\n",
    "for i, dtcf in enumerate(Estimators):\n",
    "    y[int(dtcf.predict(X_test[random_index].reshape(1,-1))[0])]+=1\n",
    "d = np.vstack((x,y)).reshape(10,2)\n",
    "d = pd.DataFrame(d, columns = [\"digits\", \"num\"])\n",
    "#补充此处：绘制统计结果的柱状图，X轴为标签0～9，Y轴为投票结果。\n",
    "#提示：使用sns.barplot()函数。\n",
    "print(d)\n",
    "sns.barplot(x='digits',y='num',data=d)\n",
    "\n",
    "\n",
    "plt.show()\n",
    "\n",
    "print(\"正确答案是: \",y_test[random_index])"
   ]
  },
  {
   "cell_type": "markdown",
   "metadata": {},
   "source": [
    "分类式随机森林中的每个决策树都得出结果后，所有决策树会进行一次**majority vote**。每个决策树为自己所得的结果投票， **<font size=4>得票最多的结果</font>** 就是随机森林得到的结果。上图中votes为每个可能结果所得的票数。"
   ]
  },
  {
   "cell_type": "markdown",
   "metadata": {},
   "source": [
    "## <span id=\"5.2\">5.2 回归式随机森林</span>"
   ]
  },
  {
   "cell_type": "markdown",
   "metadata": {},
   "source": [
    "回归式随机森林由多棵回归决策树构成。\n",
    "\n",
    "### 让我们先来看看sklearn的回归式随机森林函数"
   ]
  },
  {
   "cell_type": "code",
   "execution_count": 21,
   "metadata": {
    "pycharm": {
     "name": "#%%\n"
    }
   },
   "outputs": [],
   "source": [
    "sns.set_style('white')\n",
    "from sklearn.ensemble import RandomForestRegressor\n",
    "\n",
    "rfr_example=RandomForestRegressor(n_estimators=10, criterion='mse', \n",
    "                                             max_depth=None, min_samples_split=2, \n",
    "                                             min_samples_leaf=1, min_weight_fraction_leaf=0.0,\n",
    "                                             max_features='auto', max_leaf_nodes=None, \n",
    "                                             bootstrap=True, oob_score=False, \n",
    "                                             n_jobs=1, random_state=None, \n",
    "                                             verbose=0, warm_start=False)"
   ]
  },
  {
   "cell_type": "markdown",
   "metadata": {},
   "source": [
    "#### 和[分类式随机森林函数](#rfc)区别不大。"
   ]
  },
  {
   "cell_type": "markdown",
   "metadata": {},
   "source": [
    "### 将问题视为回归问题：\n",
    "\n",
    "1. 最后输出结果会是一个实数，而不是一个分类标签。\n",
    "2. 汇总各个决策树的预测时可以求平均。\n",
    "3. 最终的预测结果可以是四舍五入的结果（譬如随机森林给出汇总结果为5.7，则预测为数字6）\n"
   ]
  },
  {
   "cell_type": "code",
   "execution_count": 22,
   "metadata": {
    "pycharm": {
     "name": "#%%\n"
    }
   },
   "outputs": [
    {
     "name": "stdout",
     "output_type": "stream",
     "text": [
      "训练分数: 0.9774746053725566\n",
      "测试分数: 0.8311661264507569\n"
     ]
    }
   ],
   "source": [
    "#建立随机森林（回归决策树，默认参数）\n",
    "rfr=RandomForestRegressor(n_jobs=-1)\n",
    "rfr.fit(X_train,y_train)\n",
    "#输出测试分数\n",
    "print(\"训练分数:\",rfr.score(X_train,y_train))\n",
    "print(\"测试分数:\",rfr.score(X_test,y_test))\n",
    "\n"
   ]
  },
  {
   "cell_type": "code",
   "execution_count": 23,
   "metadata": {
    "pycharm": {
     "name": "#%%\n"
    }
   },
   "outputs": [
    {
     "name": "stdout",
     "output_type": "stream",
     "text": [
      "训练分数: 0.9772753062459764\n",
      "测试分数: 0.833742489065929\n"
     ]
    }
   ],
   "source": [
    "#相同hyperparameter下的回归分类树的效果\n",
    "rfrt=RandomForestRegressor(n_estimators=100,max_depth=25)\n",
    "rfrt.fit(X_train,y_train)\n",
    "#输出测试分数\n",
    "print(\"训练分数:\",rfrt.score(X_train,y_train))\n",
    "print(\"测试分数:\",rfrt.score(X_test,y_test))\n",
    "\n",
    "#用一个list存放被错误分类的数据信息\n",
    "w_r=[]\n",
    "for i in range(len(X_test)):\n",
    "    #由于使用round函数存在偶尔四舍五入不准的情况，此处使用另一种方法\n",
    "    pred=int(rfrt.predict(X_test[i].reshape(1,-1))[0]+0.5)\n",
    "    if pred!=y_test[i]:\n",
    "        w_r.append([X_test[i],pred,y_test[i]])"
   ]
  },
  {
   "cell_type": "markdown",
   "metadata": {},
   "source": [
    "## <span id=\"5.3\">5.3 预测错误展示 </span>"
   ]
  },
  {
   "cell_type": "markdown",
   "metadata": {},
   "source": [
    "### 让我们观察一下在两种随机森林的分类错误测试样本："
   ]
  },
  {
   "cell_type": "code",
   "execution_count": 24,
   "metadata": {
    "pycharm": {
     "name": "#%%\n"
    }
   },
   "outputs": [],
   "source": [
    "#从分类树中选取被错误分类的数据\n",
    "#分类模型将向量二维化\n",
    "for i in range(len(w)):\n",
    "    w[i][0]=w[i][0].reshape(28,28)\n",
    "#回归模型将向量二维化\n",
    "for i in range(len(w_r)):\n",
    "    w_r[i][0]=w_r[i][0].reshape(28,28)\n",
    "\n",
    "\n",
    "\n"
   ]
  },
  {
   "cell_type": "markdown",
   "metadata": {},
   "source": [
    "### 首先是分类模型的预测错误 "
   ]
  },
  {
   "cell_type": "code",
   "execution_count": 25,
   "metadata": {
    "pycharm": {
     "name": "#%%\n"
    }
   },
   "outputs": [
    {
     "name": "stdout",
     "output_type": "stream",
     "text": [
      "错误分类(分类模型)：\n",
      "\n"
     ]
    },
    {
     "data": {
      "image/png": "[encoded data removed]",
      "text/plain": [
       "<Figure size 1080x576 with 10 Axes>"
      ]
     },
     "metadata": {},
     "output_type": "display_data"
    },
    {
     "name": "stdout",
     "output_type": "stream",
     "text": [
      "\n",
      "预测错误总数量:  155\n"
     ]
    }
   ],
   "source": [
    "print(\"错误分类(分类模型)：\\n\")\n",
    "wc=[]\n",
    "plt.figure(figsize=(15,8))\n",
    "\n",
    "#选择数字0～9样本各一个进行展示\n",
    "for i in range (10):\n",
    "    for j in range(len(w)):\n",
    "        if w[j][2]== i:\n",
    "            wc.append(w[j])\n",
    "            break\n",
    "\n",
    "#输出预测错误\n",
    "for i in range(0,len(wc)):\n",
    "    ax=plt.subplot(2,5,i+1) \n",
    "    ax.matshow(wc[i][0])\n",
    "    ax.set_title(\"Prediction: %(predict)d, Label: %(label)d\\n\"%{\"predict\":wc[i][1],\"label\":wc[i][2]})\n",
    "plt.show()\n",
    "print(\"\\n预测错误总数量: \",len(w))"
   ]
  },
  {
   "cell_type": "markdown",
   "metadata": {},
   "source": [
    "### 其次是回归模型的预测错误"
   ]
  },
  {
   "cell_type": "code",
   "execution_count": 26,
   "metadata": {
    "pycharm": {
     "name": "#%%\n"
    }
   },
   "outputs": [
    {
     "name": "stdout",
     "output_type": "stream",
     "text": [
      "错误分类(回归模型)：\n",
      "\n"
     ]
    },
    {
     "data": {
      "image/png": "[encoded data removed]",
      "text/plain": [
       "<Figure size 1080x576 with 10 Axes>"
      ]
     },
     "metadata": {},
     "output_type": "display_data"
    },
    {
     "name": "stdout",
     "output_type": "stream",
     "text": [
      "\n",
      "预测错误总数量:  1209\n"
     ]
    }
   ],
   "source": [
    "print(\"错误分类(回归模型)：\\n\")\n",
    "w_rc=[]\n",
    "plt.figure(figsize=(15,8))\n",
    "\n",
    "#选择数字为0～9样本各一个进行展示\n",
    "for i in range (10):\n",
    "    for j in range(len(w_r)):\n",
    "        if w_r[j][2]== i:\n",
    "            w_rc.append(w_r[j])\n",
    "            break\n",
    "\n",
    "#输出预测错误\n",
    "for i in range(0,len(w_rc)):\n",
    "    ax=plt.subplot(2,5,i+1) \n",
    "    ax.matshow(w_rc[i][0])\n",
    "    ax.set_title(\"Prediction: %(predict)d, Label: %(label)d\\n\"%{\"predict\":w_rc[i][1],\"label\":w_rc[i][2]})\n",
    "\n",
    "plt.show()\n",
    "print(\"\\n预测错误总数量: \",len(w_r))"
   ]
  },
  {
   "cell_type": "markdown",
   "metadata": {},
   "source": [
    "# <span id=\"6\">6. 非数据库图片测试</span>"
   ]
  },
  {
   "cell_type": "markdown",
   "metadata": {},
   "source": [
    " <font size=4>使用下面4个手写图片进行预测</font>\n",
    "\n",
    "<br/><center><font size=5 color=DodgerBlue>PRESENTED BY: BEILUN WANG</center>\n",
    "<img src=\"hand_write_3.jpg\" style=\"zoom:40%\" />\n",
    "<br/><center><font size=5 color=DodgerBlue>PRESENTED BY: QIAN WANG</center>\n",
    "<img src=\"hand_write_4.jpg\" style=\"zoom:50%\" />\n",
    "<center><font size=5 color=DodgerBlue>PRESENTED BY: YAN ZHANG</center>\n",
    "<img src=\"hand_write_5.jpg\" style=\"zoom:50%\" />\n",
    "<center><font size=5 color=DodgerBlue>PRESENTED BY: ZHENGXUAN LU</center>\n",
    "<img src=\"hand_write_6.jpg\" style=\"zoom:50%\" />\n",
    "<img src=\"hand_write_7.jpg\" style=\"zoom:40%\" />\n",
    "<center><font size=5 color=DodgerBlue>PRESENTED BY: CHUNSHU LI</center>\n",
    "<img src=\"hand_write_8.png\" style=\"zoom:40%\" />\n",
    "    "
   ]
  },
  {
   "cell_type": "markdown",
   "metadata": {},
   "source": [
    "### 非数据库图片预处理\n",
    "图片需要进行预处理使模型可以处理它们。"
   ]
  },
  {
   "cell_type": "code",
   "execution_count": 27,
   "metadata": {
    "pycharm": {
     "name": "#%%\n"
    }
   },
   "outputs": [],
   "source": [
    "#运用训练好的模型进行预测\n",
    "\n",
    "#使用skimage进行图片读取和预处理\n",
    "from skimage import io,data,transform    #skimage: conda install scikit-image\n",
    "#目标尺寸大小\n",
    "MNIST_SIZE = 28\n",
    "#转换函数\n",
    "def translate(image_path):\n",
    "    #读入图片并变成灰度图\n",
    "    img = io.imread(image_path, as_gray=True)\n",
    "    #缩小到28*28 灰度取值范围为[0,255]\n",
    "    translated_img = (1-transform.resize(img, (MNIST_SIZE, MNIST_SIZE)))*1000\n",
    "    return translated_img\n",
    "\n"
   ]
  },
  {
   "cell_type": "markdown",
   "metadata": {},
   "source": [
    "### 非数据库图片预测"
   ]
  },
  {
   "cell_type": "code",
   "execution_count": 28,
   "metadata": {
    "pycharm": {
     "name": "#%%\n"
    }
   },
   "outputs": [
    {
     "name": "stdout",
     "output_type": "stream",
     "text": [
      "非数据库图片预测\n"
     ]
    },
    {
     "data": {
      "image/png": "[encoded data removed]",
      "text/plain": [
       "<Figure size 1080x720 with 4 Axes>"
      ]
     },
     "metadata": {},
     "output_type": "display_data"
    }
   ],
   "source": [
    "print(\"非数据库图片预测\")\n",
    "plt.figure(figsize=(15,10))\n",
    "\n",
    "#每次预测图片前，需要对图片进行二值化\n",
    "#PRESENTED BY: YAN ZHANG\n",
    "hand_write_5=binarization(translate(\"hand_write_5.jpg\"),30)\n",
    "ax=plt.subplot(1,4,1)\n",
    "ax.matshow(hand_write_5)\n",
    "ax.set_title(\"Prediction: %(predict)d, Label: %(label)d\\n\"%{\"predict\":rfct.predict(hand_write_5.reshape(1,-1)),\"label\":5})\n",
    "\n",
    "#PRESENTED BY YI ZHUANG\n",
    "#已知输出易得1\n",
    "#错误的预处理样例\n",
    "hand_write_6=binarization(translate(\"hand_write_6.jpg\"),128)\n",
    "ax=plt.subplot(1,4,2)\n",
    "ax.matshow(hand_write_6)\n",
    "ax.set_title(\"Prediction: %(predict)d, Label: %(label)d\\n\"%{\"predict\":rfct.predict(hand_write_6.reshape(1,-1)),\"label\":6})\n",
    "\n",
    "#PRESENTED BY ZHENGXUAN LU\n",
    "hand_write_7=binarization(translate(\"hand_write_7.jpg\"),80)\n",
    "ax=plt.subplot(1,4,3)\n",
    "ax.matshow(hand_write_7)\n",
    "ax.set_title(\"Prediction: %(predict)d, Label: %(label)d\\n\"%{\"predict\":rfct.predict(hand_write_7.reshape(1,-1)),\"label\":7})\n",
    "\n",
    "#PRESENTED BY CHUNSHU LI\n",
    "hand_write_8=binarization(translate(\"hand_write_8.png\"),40)\n",
    "ax=plt.subplot(1,4,4)\n",
    "ax.matshow(hand_write_8)\n",
    "ax.set_title(\"Prediction: %(predict)d, Label: %(label)d\\n\"%{\"predict\":rfct.predict(hand_write_8.reshape(1,-1)),\"label\":8})\n",
    "\n",
    "plt.show()\n"
   ]
  },
  {
   "cell_type": "markdown",
   "metadata": {},
   "source": [
    "<center><font size=5 color=red>由于书写习惯等原因，预测和结果差距可能较大。</font></center>"
   ]
  },
  {
   "cell_type": "markdown",
   "metadata": {},
   "source": [
    "### 使用摄像头拍摄手写数字进行预测。（不作要求）\n",
    ">学习VideoCapture函数来调用摄像头\n",
    "<br>通过摄像头获得手写数字图片，文件名为test.jpg。\n",
    "<br>尽量将字迹写粗使特征容易被摄像头捕获。  "
   ]
  },
  {
   "cell_type": "code",
   "execution_count": null,
   "metadata": {
    "pycharm": {
     "name": "#%%\n"
    }
   },
   "outputs": [],
   "source": [
    "cap = cv2.VideoCapture(0)\n",
    "while True:\n",
    "    ret, frame = cap.read()\n",
    "    frame=frame[int(((frame.shape[0]/2)-300)):int(((frame.shape[0]/2)+300)),\n",
    "                int(((frame.shape[1]/2)-300)):int(((frame.shape[1]/2)+300)),0:3]\n",
    "    cv2.namedWindow(\"resized\",0);\n",
    "    cv2.imshow(\"resized\", frame)\n",
    "    if cv2.waitKey(1) & 0xFF == ord('s'):\n",
    "        cv2.imwrite(\"test.jpg\", frame)\n",
    "        break\n",
    "    if cv2.waitKey(1) & 0xFF == ord('q'):\n",
    "        break\n",
    "cap.release()\n",
    "cv2.destroyAllWindows()"
   ]
  },
  {
   "cell_type": "markdown",
   "metadata": {},
   "source": [
    "**下面提供接口，您可以自己上传手写数字图片进行预测**\n",
    "\n",
    "请您把需要测试的图片存入该教程的目录下。\n",
    "\n",
    "可以使用的图片列表：\n",
    "\n",
    ">hand_write_3.jpg\n",
    "<br>hand_write_4.jpg\n",
    "<br>hand_write_5.jpg\n",
    "<br>hand_write_6.jpg\n",
    "<br>hand_write_7.jpg\n",
    "<br>hand_write_8.png\n",
    "<br>hand_write_9.jpg"
   ]
  },
  {
   "cell_type": "markdown",
   "metadata": {},
   "source": [
    "### <span id='HW5'>作业5：</span>\n",
    "手写一个数字（画图/iPad/数位板）保存成图片，命名为\"学号_姓名.jpg\"在下面给出的接口进行测试，结果仅供图一乐。"
   ]
  },
  {
   "cell_type": "code",
   "execution_count": null,
   "metadata": {
    "pycharm": {
     "name": "#%%\n"
    }
   },
   "outputs": [
    {
     "name": "stdout",
     "output_type": "stream",
     "text": [
      "Please input the name of the picture(需要后缀名,输入q退出): hand_write_3(2).jpg\n",
      "Please input the label of the picture: 3\n"
     ]
    },
    {
     "data": {
      "image/png": "[encoded data removed]",
      "text/plain": [
       "<Figure size 432x288 with 1 Axes>"
      ]
     },
     "metadata": {},
     "output_type": "display_data"
    },
    {
     "data": {
      "image/png": "[encoded data removed]",
      "text/plain": [
       "<Figure size 288x288 with 1 Axes>"
      ]
     },
     "metadata": {},
     "output_type": "display_data"
    },
    {
     "name": "stdout",
     "output_type": "stream",
     "text": [
      "Please input the name of the picture(需要后缀名,输入q退出): hand_write_5(2).jpg\n",
      "没有这个文件名！请重新输入！\n",
      "Please input the name of the picture(需要后缀名,输入q退出): 5\n",
      "没有这个文件名！请重新输入！\n",
      "Please input the name of the picture(需要后缀名,输入q退出): hand_write_5 (2).jpg\n",
      "Please input the label of the picture: 5\n"
     ]
    },
    {
     "data": {
      "image/png": "[encoded data removed]",
      "text/plain": [
       "<Figure size 432x288 with 1 Axes>"
      ]
     },
     "metadata": {},
     "output_type": "display_data"
    },
    {
     "data": {
      "image/png": "[encoded data removed]",
      "text/plain": [
       "<Figure size 288x288 with 1 Axes>"
      ]
     },
     "metadata": {},
     "output_type": "display_data"
    }
   ],
   "source": [
    "#实现预测数字的函数，参数是所使用的模型\n",
    "#需要把所用的图片上传至该项目的目录下\n",
    "def predict_number(model):\n",
    "    #输入文件名\n",
    "    image_path=input(\"Please input the name of the picture(需要后缀名,输入q退出): \")\n",
    "    if image_path=='q' or image_path=='Q':\n",
    "        return False\n",
    "    #输入标签\n",
    "    elif os.path.exists(image_path)==False:\n",
    "        print(\"没有这个文件名！请重新输入！\")\n",
    "        return True\n",
    "    label=int(input(\"Please input the label of the picture: \"))\n",
    "    \n",
    "    image=plt.imread(image_path)\n",
    "    plt.title(\"The real picture\")\n",
    "    plt.imshow(image)\n",
    "    \n",
    "    image=binarization(translate(image_path),80)\n",
    "    plt.matshow(image)\n",
    "    plt.title(\"Prediction: %(predict)d, Label: %(label)d\\n\"%{\"predict\":model.predict(image.reshape(1,-1)),\"label\":label})\n",
    "    plt.show()\n",
    "    return True\n",
    "\n",
    "sign=True\n",
    "while sign:\n",
    "    sign=predict_number(model=rfct)"
   ]
  },
  {
   "cell_type": "markdown",
   "metadata": {},
   "source": [
    "# <span id=\"7\">7. 总结</span>\n",
    "### 在本课中，我们学习了：\n",
    "\n",
    ">1. 决策树的概念\n",
    "2. 分类决策树和回归决策树的概念和生成步骤\n",
    "3. 随机森林的概念，随机森林的生成，超参数对随机森林的影响\n",
    "4. 随机森林的运用：手写数字的识别"
   ]
  },
  {
   "cell_type": "markdown",
   "metadata": {},
   "source": [
    "## [返回目录](#content)"
   ]
  }
 ],
 "metadata": {
  "kernelspec": {
   "display_name": "Python 3",
   "language": "python",
   "name": "python3"
  },
  "language_info": {
   "codemirror_mode": {
    "name": "ipython",
    "version": 3
   },
   "file_extension": ".py",
   "mimetype": "text/x-python",
   "name": "python",
   "nbconvert_exporter": "python",
   "pygments_lexer": "ipython3",
   "version": "3.7.10"
  },
  "pycharm": {
   "stem_cell": {
    "cell_type": "raw",
    "metadata": {
     "collapsed": false
    },
    "source": []
   }
  }
 },
 "nbformat": 4,
 "nbformat_minor": 4
}
